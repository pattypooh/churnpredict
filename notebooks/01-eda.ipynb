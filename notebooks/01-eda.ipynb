{
 "cells": [
  {
   "cell_type": "code",
   "execution_count": 18,
   "metadata": {},
   "outputs": [],
   "source": [
    "import pandas as pd\n",
    "import matplotlib.pyplot as plt"
   ]
  },
  {
   "cell_type": "code",
   "execution_count": 2,
   "metadata": {},
   "outputs": [
    {
     "data": {
      "text/html": [
       "<div>\n",
       "<style scoped>\n",
       "    .dataframe tbody tr th:only-of-type {\n",
       "        vertical-align: middle;\n",
       "    }\n",
       "\n",
       "    .dataframe tbody tr th {\n",
       "        vertical-align: top;\n",
       "    }\n",
       "\n",
       "    .dataframe thead th {\n",
       "        text-align: right;\n",
       "    }\n",
       "</style>\n",
       "<table border=\"1\" class=\"dataframe\">\n",
       "  <thead>\n",
       "    <tr style=\"text-align: right;\">\n",
       "      <th></th>\n",
       "      <th>ID</th>\n",
       "      <th>CustomerId</th>\n",
       "      <th>Surname</th>\n",
       "      <th>CreditScore</th>\n",
       "      <th>Geography</th>\n",
       "      <th>Gender</th>\n",
       "      <th>Age</th>\n",
       "      <th>Tenure</th>\n",
       "      <th>Balance</th>\n",
       "      <th>NumOfProducts</th>\n",
       "      <th>HasCrCard</th>\n",
       "      <th>IsActiveMember</th>\n",
       "      <th>EstimatedSalary</th>\n",
       "      <th>Exited</th>\n",
       "    </tr>\n",
       "  </thead>\n",
       "  <tbody>\n",
       "    <tr>\n",
       "      <th>0</th>\n",
       "      <td>37765</td>\n",
       "      <td>15794860</td>\n",
       "      <td>Ch'eng</td>\n",
       "      <td>627</td>\n",
       "      <td>France</td>\n",
       "      <td>Male</td>\n",
       "      <td>28.0</td>\n",
       "      <td>7</td>\n",
       "      <td>131694.04</td>\n",
       "      <td>1</td>\n",
       "      <td>1.0</td>\n",
       "      <td>1.0</td>\n",
       "      <td>161205.61</td>\n",
       "      <td>0</td>\n",
       "    </tr>\n",
       "    <tr>\n",
       "      <th>1</th>\n",
       "      <td>130453</td>\n",
       "      <td>15728005</td>\n",
       "      <td>Hargreaves</td>\n",
       "      <td>597</td>\n",
       "      <td>France</td>\n",
       "      <td>Male</td>\n",
       "      <td>34.0</td>\n",
       "      <td>2</td>\n",
       "      <td>0.00</td>\n",
       "      <td>2</td>\n",
       "      <td>0.0</td>\n",
       "      <td>1.0</td>\n",
       "      <td>181419.29</td>\n",
       "      <td>0</td>\n",
       "    </tr>\n",
       "    <tr>\n",
       "      <th>2</th>\n",
       "      <td>77297</td>\n",
       "      <td>15686810</td>\n",
       "      <td>Ts'ui</td>\n",
       "      <td>724</td>\n",
       "      <td>France</td>\n",
       "      <td>Male</td>\n",
       "      <td>39.0</td>\n",
       "      <td>7</td>\n",
       "      <td>0.00</td>\n",
       "      <td>2</td>\n",
       "      <td>1.0</td>\n",
       "      <td>1.0</td>\n",
       "      <td>100862.54</td>\n",
       "      <td>0</td>\n",
       "    </tr>\n",
       "    <tr>\n",
       "      <th>3</th>\n",
       "      <td>40858</td>\n",
       "      <td>15760244</td>\n",
       "      <td>Trevisano</td>\n",
       "      <td>663</td>\n",
       "      <td>Germany</td>\n",
       "      <td>Female</td>\n",
       "      <td>56.0</td>\n",
       "      <td>5</td>\n",
       "      <td>118577.24</td>\n",
       "      <td>3</td>\n",
       "      <td>1.0</td>\n",
       "      <td>0.0</td>\n",
       "      <td>61164.45</td>\n",
       "      <td>1</td>\n",
       "    </tr>\n",
       "    <tr>\n",
       "      <th>4</th>\n",
       "      <td>19804</td>\n",
       "      <td>15810563</td>\n",
       "      <td>French</td>\n",
       "      <td>627</td>\n",
       "      <td>France</td>\n",
       "      <td>Female</td>\n",
       "      <td>33.0</td>\n",
       "      <td>5</td>\n",
       "      <td>0.00</td>\n",
       "      <td>2</td>\n",
       "      <td>1.0</td>\n",
       "      <td>1.0</td>\n",
       "      <td>103737.82</td>\n",
       "      <td>0</td>\n",
       "    </tr>\n",
       "  </tbody>\n",
       "</table>\n",
       "</div>"
      ],
      "text/plain": [
       "       ID  CustomerId     Surname  CreditScore Geography  Gender   Age  \\\n",
       "0   37765    15794860      Ch'eng          627    France    Male  28.0   \n",
       "1  130453    15728005  Hargreaves          597    France    Male  34.0   \n",
       "2   77297    15686810       Ts'ui          724    France    Male  39.0   \n",
       "3   40858    15760244   Trevisano          663   Germany  Female  56.0   \n",
       "4   19804    15810563      French          627    France  Female  33.0   \n",
       "\n",
       "   Tenure    Balance  NumOfProducts  HasCrCard  IsActiveMember  \\\n",
       "0       7  131694.04              1        1.0             1.0   \n",
       "1       2       0.00              2        0.0             1.0   \n",
       "2       7       0.00              2        1.0             1.0   \n",
       "3       5  118577.24              3        1.0             0.0   \n",
       "4       5       0.00              2        1.0             1.0   \n",
       "\n",
       "   EstimatedSalary  Exited  \n",
       "0        161205.61       0  \n",
       "1        181419.29       0  \n",
       "2        100862.54       0  \n",
       "3         61164.45       1  \n",
       "4        103737.82       0  "
      ]
     },
     "execution_count": 2,
     "metadata": {},
     "output_type": "execute_result"
    }
   ],
   "source": [
    "df = pd.read_csv(\"../data/raw/train_data.csv\")\n",
    "df.head()"
   ]
  },
  {
   "cell_type": "code",
   "execution_count": 3,
   "metadata": {},
   "outputs": [
    {
     "name": "stdout",
     "output_type": "stream",
     "text": [
      "<class 'pandas.core.frame.DataFrame'>\n",
      "RangeIndex: 143579 entries, 0 to 143578\n",
      "Data columns (total 14 columns):\n",
      " #   Column           Non-Null Count   Dtype  \n",
      "---  ------           --------------   -----  \n",
      " 0   ID               143579 non-null  int64  \n",
      " 1   CustomerId       143579 non-null  int64  \n",
      " 2   Surname          143579 non-null  object \n",
      " 3   CreditScore      143579 non-null  int64  \n",
      " 4   Geography        143579 non-null  object \n",
      " 5   Gender           143579 non-null  object \n",
      " 6   Age              143579 non-null  float64\n",
      " 7   Tenure           143579 non-null  int64  \n",
      " 8   Balance          143579 non-null  float64\n",
      " 9   NumOfProducts    143579 non-null  int64  \n",
      " 10  HasCrCard        143579 non-null  float64\n",
      " 11  IsActiveMember   143579 non-null  float64\n",
      " 12  EstimatedSalary  143579 non-null  float64\n",
      " 13  Exited           143579 non-null  int64  \n",
      "dtypes: float64(5), int64(6), object(3)\n",
      "memory usage: 15.3+ MB\n"
     ]
    }
   ],
   "source": [
    "df.info()"
   ]
  },
  {
   "cell_type": "markdown",
   "metadata": {},
   "source": [
    "- There arent missing values"
   ]
  },
  {
   "cell_type": "code",
   "execution_count": 4,
   "metadata": {},
   "outputs": [
    {
     "data": {
      "text/html": [
       "<div>\n",
       "<style scoped>\n",
       "    .dataframe tbody tr th:only-of-type {\n",
       "        vertical-align: middle;\n",
       "    }\n",
       "\n",
       "    .dataframe tbody tr th {\n",
       "        vertical-align: top;\n",
       "    }\n",
       "\n",
       "    .dataframe thead th {\n",
       "        text-align: right;\n",
       "    }\n",
       "</style>\n",
       "<table border=\"1\" class=\"dataframe\">\n",
       "  <thead>\n",
       "    <tr style=\"text-align: right;\">\n",
       "      <th></th>\n",
       "      <th>ID</th>\n",
       "      <th>CustomerId</th>\n",
       "      <th>CreditScore</th>\n",
       "      <th>Age</th>\n",
       "      <th>Tenure</th>\n",
       "      <th>Balance</th>\n",
       "      <th>NumOfProducts</th>\n",
       "      <th>HasCrCard</th>\n",
       "      <th>IsActiveMember</th>\n",
       "      <th>EstimatedSalary</th>\n",
       "      <th>Exited</th>\n",
       "    </tr>\n",
       "  </thead>\n",
       "  <tbody>\n",
       "    <tr>\n",
       "      <th>count</th>\n",
       "      <td>143579.000000</td>\n",
       "      <td>1.435790e+05</td>\n",
       "      <td>143579.000000</td>\n",
       "      <td>143579.000000</td>\n",
       "      <td>143579.000000</td>\n",
       "      <td>143579.000000</td>\n",
       "      <td>143579.000000</td>\n",
       "      <td>143579.000000</td>\n",
       "      <td>143579.000000</td>\n",
       "      <td>143579.000000</td>\n",
       "      <td>143579.000000</td>\n",
       "    </tr>\n",
       "    <tr>\n",
       "      <th>mean</th>\n",
       "      <td>82521.171097</td>\n",
       "      <td>1.569202e+07</td>\n",
       "      <td>656.411704</td>\n",
       "      <td>38.144476</td>\n",
       "      <td>5.018408</td>\n",
       "      <td>55533.640642</td>\n",
       "      <td>1.553932</td>\n",
       "      <td>0.754107</td>\n",
       "      <td>0.496800</td>\n",
       "      <td>112530.072465</td>\n",
       "      <td>0.212078</td>\n",
       "    </tr>\n",
       "    <tr>\n",
       "      <th>std</th>\n",
       "      <td>47650.353367</td>\n",
       "      <td>7.142049e+04</td>\n",
       "      <td>80.210361</td>\n",
       "      <td>8.871711</td>\n",
       "      <td>2.807027</td>\n",
       "      <td>62822.616346</td>\n",
       "      <td>0.546754</td>\n",
       "      <td>0.430617</td>\n",
       "      <td>0.499991</td>\n",
       "      <td>50301.718378</td>\n",
       "      <td>0.408781</td>\n",
       "    </tr>\n",
       "    <tr>\n",
       "      <th>min</th>\n",
       "      <td>0.000000</td>\n",
       "      <td>1.556570e+07</td>\n",
       "      <td>350.000000</td>\n",
       "      <td>18.000000</td>\n",
       "      <td>0.000000</td>\n",
       "      <td>0.000000</td>\n",
       "      <td>1.000000</td>\n",
       "      <td>0.000000</td>\n",
       "      <td>0.000000</td>\n",
       "      <td>11.580000</td>\n",
       "      <td>0.000000</td>\n",
       "    </tr>\n",
       "    <tr>\n",
       "      <th>25%</th>\n",
       "      <td>41259.500000</td>\n",
       "      <td>1.563299e+07</td>\n",
       "      <td>597.000000</td>\n",
       "      <td>32.000000</td>\n",
       "      <td>3.000000</td>\n",
       "      <td>0.000000</td>\n",
       "      <td>1.000000</td>\n",
       "      <td>1.000000</td>\n",
       "      <td>0.000000</td>\n",
       "      <td>74580.800000</td>\n",
       "      <td>0.000000</td>\n",
       "    </tr>\n",
       "    <tr>\n",
       "      <th>50%</th>\n",
       "      <td>82485.000000</td>\n",
       "      <td>1.569018e+07</td>\n",
       "      <td>659.000000</td>\n",
       "      <td>37.000000</td>\n",
       "      <td>5.000000</td>\n",
       "      <td>0.000000</td>\n",
       "      <td>2.000000</td>\n",
       "      <td>1.000000</td>\n",
       "      <td>0.000000</td>\n",
       "      <td>117931.100000</td>\n",
       "      <td>0.000000</td>\n",
       "    </tr>\n",
       "    <tr>\n",
       "      <th>75%</th>\n",
       "      <td>123793.500000</td>\n",
       "      <td>1.575685e+07</td>\n",
       "      <td>710.000000</td>\n",
       "      <td>42.000000</td>\n",
       "      <td>7.000000</td>\n",
       "      <td>119948.090000</td>\n",
       "      <td>2.000000</td>\n",
       "      <td>1.000000</td>\n",
       "      <td>1.000000</td>\n",
       "      <td>155149.685000</td>\n",
       "      <td>0.000000</td>\n",
       "    </tr>\n",
       "    <tr>\n",
       "      <th>max</th>\n",
       "      <td>165033.000000</td>\n",
       "      <td>1.581569e+07</td>\n",
       "      <td>850.000000</td>\n",
       "      <td>92.000000</td>\n",
       "      <td>10.000000</td>\n",
       "      <td>250898.090000</td>\n",
       "      <td>4.000000</td>\n",
       "      <td>1.000000</td>\n",
       "      <td>1.000000</td>\n",
       "      <td>199992.480000</td>\n",
       "      <td>1.000000</td>\n",
       "    </tr>\n",
       "  </tbody>\n",
       "</table>\n",
       "</div>"
      ],
      "text/plain": [
       "                  ID    CustomerId    CreditScore            Age  \\\n",
       "count  143579.000000  1.435790e+05  143579.000000  143579.000000   \n",
       "mean    82521.171097  1.569202e+07     656.411704      38.144476   \n",
       "std     47650.353367  7.142049e+04      80.210361       8.871711   \n",
       "min         0.000000  1.556570e+07     350.000000      18.000000   \n",
       "25%     41259.500000  1.563299e+07     597.000000      32.000000   \n",
       "50%     82485.000000  1.569018e+07     659.000000      37.000000   \n",
       "75%    123793.500000  1.575685e+07     710.000000      42.000000   \n",
       "max    165033.000000  1.581569e+07     850.000000      92.000000   \n",
       "\n",
       "              Tenure        Balance  NumOfProducts      HasCrCard  \\\n",
       "count  143579.000000  143579.000000  143579.000000  143579.000000   \n",
       "mean        5.018408   55533.640642       1.553932       0.754107   \n",
       "std         2.807027   62822.616346       0.546754       0.430617   \n",
       "min         0.000000       0.000000       1.000000       0.000000   \n",
       "25%         3.000000       0.000000       1.000000       1.000000   \n",
       "50%         5.000000       0.000000       2.000000       1.000000   \n",
       "75%         7.000000  119948.090000       2.000000       1.000000   \n",
       "max        10.000000  250898.090000       4.000000       1.000000   \n",
       "\n",
       "       IsActiveMember  EstimatedSalary         Exited  \n",
       "count   143579.000000    143579.000000  143579.000000  \n",
       "mean         0.496800    112530.072465       0.212078  \n",
       "std          0.499991     50301.718378       0.408781  \n",
       "min          0.000000        11.580000       0.000000  \n",
       "25%          0.000000     74580.800000       0.000000  \n",
       "50%          0.000000    117931.100000       0.000000  \n",
       "75%          1.000000    155149.685000       0.000000  \n",
       "max          1.000000    199992.480000       1.000000  "
      ]
     },
     "execution_count": 4,
     "metadata": {},
     "output_type": "execute_result"
    }
   ],
   "source": [
    "df.describe()"
   ]
  },
  {
   "cell_type": "markdown",
   "metadata": {},
   "source": [
    "# Univariate analysis"
   ]
  },
  {
   "cell_type": "markdown",
   "metadata": {},
   "source": [
    "Target: Exited"
   ]
  },
  {
   "cell_type": "code",
   "execution_count": 8,
   "metadata": {},
   "outputs": [
    {
     "name": "stdout",
     "output_type": "stream",
     "text": [
      "Proportion of people who exited the bank (1) and those that stay (0)\n"
     ]
    },
    {
     "data": {
      "text/plain": [
       "Exited\n",
       "0    0.787922\n",
       "1    0.212078\n",
       "Name: proportion, dtype: float64"
      ]
     },
     "execution_count": 8,
     "metadata": {},
     "output_type": "execute_result"
    }
   ],
   "source": [
    "print('Proportion of people who exited the bank (1) and those that stay (0)')\n",
    "df.Exited.value_counts(normalize=True)"
   ]
  },
  {
   "cell_type": "markdown",
   "metadata": {},
   "source": [
    "## Discrete variables: HasCrCard, NumOfProducts"
   ]
  },
  {
   "cell_type": "code",
   "execution_count": 32,
   "metadata": {},
   "outputs": [
    {
     "data": {
      "text/plain": [
       "HasCrCard\n",
       "1.0    0.754107\n",
       "0.0    0.245893\n",
       "Name: proportion, dtype: float64"
      ]
     },
     "execution_count": 32,
     "metadata": {},
     "output_type": "execute_result"
    },
    {
     "data": {
      "image/png": "[encoded data removed]",
      "text/plain": [
       "<Figure size 500x300 with 1 Axes>"
      ]
     },
     "metadata": {},
     "output_type": "display_data"
    }
   ],
   "source": [
    "df.HasCrCard.value_counts().sort_index().plot(kind='bar'\n",
    "                                                  , title=\"Customers with Credit Card\"\n",
    "                                                  , xlabel=\"Have credit card\"\n",
    "                                                  , ylabel=\"Count Custumers\"\n",
    "                                                  ,figsize=(5,3))\n",
    "df.HasCrCard.value_counts(normalize=True)"
   ]
  },
  {
   "cell_type": "code",
   "execution_count": 30,
   "metadata": {},
   "outputs": [
    {
     "data": {
      "image/png": "[encoded data removed]",
      "text/plain": [
       "<Figure size 500x400 with 1 Axes>"
      ]
     },
     "metadata": {},
     "output_type": "display_data"
    },
    {
     "name": "stdout",
     "output_type": "stream",
     "text": [
      "% of clients having Bank products\n",
      "NumOfProducts\n",
      "1    46.917725\n",
      "2    51.052731\n",
      "3     1.748167\n",
      "4     0.281378\n",
      "Name: proportion, dtype: float64\n"
     ]
    }
   ],
   "source": [
    "df.NumOfProducts.value_counts().sort_index().plot(kind='bar'\n",
    "                                                  , title=\"Customers with Products\"\n",
    "                                                  , xlabel=\"Number of Products\"\n",
    "                                                  , ylabel=\"Count Custumers\"\n",
    "                                                  ,figsize=(5,4))\n",
    "\n",
    "plt.show()\n",
    "print('% of clients having Bank products')\n",
    "print(df.NumOfProducts.value_counts(normalize=True).sort_index()*100)"
   ]
  },
  {
   "cell_type": "code",
   "execution_count": null,
   "metadata": {},
   "outputs": [],
   "source": []
  }
 ],
 "metadata": {
  "kernelspec": {
   "display_name": "mlearnia",
   "language": "python",
   "name": "python3"
  },
  "language_info": {
   "codemirror_mode": {
    "name": "ipython",
    "version": 3
   },
   "file_extension": ".py",
   "mimetype": "text/x-python",
   "name": "python",
   "nbconvert_exporter": "python",
   "pygments_lexer": "ipython3",
   "version": "3.9.21"
  }
 },
 "nbformat": 4,
 "nbformat_minor": 2
}
